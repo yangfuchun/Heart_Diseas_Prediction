{
  "cells": [
    {
      "attachments": {},
      "cell_type": "markdown",
      "metadata": {},
      "source": [
        "\n",
        "### The Data \n",
        "-----\n",
        "#### Heart_disease_Framingham.csv \n",
        "\n",
        "`Heart_disease_Framingham.csv` can be accessed publicly on the Kaggle website. It originates from a continuing cardiovascular study conducted on individuals residing in Framingham, Massachusetts. The primary objective of this study is to classify and forecast whether a patient is at risk of developing coronary heart disease (CHD) within the next 10 years. The dataset comprises over 4,000 records and encompasses 15 attributes that contain information about the patients."
      ]
    },
    {
      "attachments": {},
      "cell_type": "markdown",
      "metadata": {},
      "source": [
        "Column | Definition\n",
        "--- | -----------\n",
        "sex | male or female (nominal)\n",
        "age | age of the patient (continuous)\n",
        "currentSmoker | whether or not the patient is a current smoker (nominal)\n",
        "cigsPerDay | he number of cigarettes that the person smoked on average in one day (continuous)\n",
        "BPMeds | whether or not the patient was on blood pressure medication (nominal)\n",
        "prevalentStroke | whether or not the patient had previously had a stroke (nominal)\n",
        "prevalentHyp | whether or not the patient was hypertensive (nominal)\n",
        "diabetes | whether or not the patient had diabetes (nominal)\n",
        "totChol | total cholesterol level (continuous)\n",
        "sysBP | systolic blood pressure (continuous)\n",
        "diaBP | diastolic blood pressure (continuous)\n",
        "BMI | Body Mass Index (Contincontinuousuous)\n",
        "heartRate | heart rate (continuous - In medical research, variables such as heart rate though in fact discrete, yet are considered continuous because of large number of possible values.)\n",
        "glucose | glucose level in blood (continuous)\n",
        "TenYearCHD | 10 year risk of coronary heart disease CHD (binary: “1”=“Yes”, “0”=“No”)"
      ]
    },
    {
      "attachments": {},
      "cell_type": "markdown",
      "metadata": {},
      "source": [
        "### Explore Dataset"
      ]
    },
    {
      "cell_type": "code",
      "execution_count": null,
      "metadata": {},
      "outputs": [],
      "source": [
        "import numpy as np\n",
        "import pandas as pd\n",
        "import seaborn as sns\n",
        "import matplotlib.pyplot as plt\n",
        "from matplotlib.patches import ConnectionPatch\n",
        "import matplotlib.mlab as mlab \n",
        "%matplotlib inline\n",
        "import scipy.optimize as opt\n",
        "import warnings\n",
        "warnings.simplefilter(\"ignore\")\n",
        "from sklearn.preprocessing import StandardScaler\n",
        "from sklearn.model_selection import train_test_split\n",
        "from sklearn.linear_model import LogisticRegression\n",
        "from sklearn.metrics import accuracy_score,confusion_matrix,classification_report,ConfusionMatrixDisplay,roc_auc_score\n",
        "from sklearn.metrics import f1_score, recall_score, precision_score\n",
        "from sklearn.metrics import precision_recall_curve\n",
        "from sklearn.neighbors import KNeighborsClassifier"
      ]
    },
    {
      "cell_type": "code",
      "execution_count": null,
      "metadata": {},
      "outputs": [],
      "source": []
    }
  ],
  "metadata": {
    "colab": {
      "provenance": []
    },
    "interpreter": {
      "hash": "aee8b7b246df8f9039afb4144a1f6fd8d2ca17a180786b69acc140d282b71a49"
    },
    "kernelspec": {
      "display_name": "Python 3.10.2 64-bit",
      "language": "python",
      "name": "python3"
    },
    "language_info": {
      "codemirror_mode": {
        "name": "ipython",
        "version": 3
      },
      "file_extension": ".py",
      "mimetype": "text/x-python",
      "name": "python",
      "nbconvert_exporter": "python",
      "pygments_lexer": "ipython3",
      "version": "3.11.0"
    },
    "orig_nbformat": 4
  },
  "nbformat": 4,
  "nbformat_minor": 0
}
